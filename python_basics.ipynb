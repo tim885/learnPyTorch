{
 "cells": [
  {
   "cell_type": "code",
   "execution_count": 1,
   "metadata": {},
   "outputs": [],
   "source": [
    "import numpy as np"
   ]
  },
  {
   "cell_type": "code",
   "execution_count": 10,
   "metadata": {},
   "outputs": [
    {
     "name": "stdout",
     "output_type": "stream",
     "text": [
      "[array([[ 0.40843964,  0.53306159,  0.57332288],\n",
      "       [ 0.02049938,  0.68728715,  0.2350116 ]]), array([[ 0.74490792,  0.48312383,  0.12636776],\n",
      "       [ 0.49819894,  0.46201403,  0.58090557]])]\n"
     ]
    }
   ],
   "source": [
    "\n",
    "def main():\n",
    "    y = fun_1()\n",
    "    print(y)\n",
    "    \n",
    "def fun_1():\n",
    "    x = np.random.random([2,3]); y = np.random.random([2,3])\n",
    "    \n",
    "    return [x, y]\n",
    "\n",
    "if __name__ =='__main__':\n",
    "    main()"
   ]
  }
 ],
 "metadata": {
  "kernelspec": {
   "display_name": "Python 3",
   "language": "python",
   "name": "python3"
  },
  "language_info": {
   "codemirror_mode": {
    "name": "ipython",
    "version": 3
   },
   "file_extension": ".py",
   "mimetype": "text/x-python",
   "name": "python",
   "nbconvert_exporter": "python",
   "pygments_lexer": "ipython3",
   "version": "3.6.5"
  }
 },
 "nbformat": 4,
 "nbformat_minor": 2
}
