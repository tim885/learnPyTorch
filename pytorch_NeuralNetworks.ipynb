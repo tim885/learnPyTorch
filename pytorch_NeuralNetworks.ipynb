{
 "cells": [
  {
   "cell_type": "code",
   "execution_count": 3,
   "metadata": {},
   "outputs": [
    {
     "name": "stdout",
     "output_type": "stream",
     "text": [
      "Net (\n",
      "  (conv1): Conv2d(1, 6, kernel_size=(5, 5), stride=(1, 1))\n",
      "  (conv2): Conv2d(6, 16, kernel_size=(5, 5), stride=(1, 1))\n",
      "  (fc1): Linear (400 -> 120)\n",
      "  (fc2): Linear (120 -> 84)\n",
      "  (fc3): Linear (84 -> 10)\n",
      ")\n",
      "Help on function view in module torch.autograd.variable:\n",
      "\n",
      "view(self, *sizes)\n",
      "\n"
     ]
    }
   ],
   "source": [
    "# neural networks are constructed with torch.nn package\n",
    "# torch.autograd train torch.nn\n",
    "# nn.module: contains layers\n",
    "# forward(input): forward propagation \n",
    "# backprob with direct gradient:weight = weight - learning_rate * gradient\n",
    "\n",
    "# define neural network \n",
    "import torch\n",
    "from torch.autograd import Variable\n",
    "import torch.nn as nn\n",
    "import torch.nn.functional as F\n",
    "\n",
    "\n",
    "class Net(nn.Module):\n",
    "\n",
    "    def __init__(self):\n",
    "        super(Net, self).__init__()\n",
    "        # 1 input image channel, 6 output channels, 5x5 square convolution\n",
    "        # kernel\n",
    "        self.conv1 = nn.Conv2d(1, 6, 5)\n",
    "        self.conv2 = nn.Conv2d(6, 16, 5)\n",
    "        # an affine operation: y = Wx + b\n",
    "        self.fc1 = nn.Linear(16 * 5 * 5, 120)\n",
    "        self.fc2 = nn.Linear(120, 84)\n",
    "        self.fc3 = nn.Linear(84, 10)\n",
    "\n",
    "    def forward(self, x):\n",
    "        # Max pooling over a (2, 2) window\n",
    "        x = F.max_pool2d(F.relu(self.conv1(x)), (2, 2))\n",
    "        # If the size is a square you can only specify a single number\n",
    "        x = F.max_pool2d(F.relu(self.conv2(x)), 2)\n",
    "        x = x.view(-1, self.num_flat_features(x))\n",
    "        x = F.relu(self.fc1(x))\n",
    "        x = F.relu(self.fc2(x))\n",
    "        x = self.fc3(x)\n",
    "        return x\n",
    "\n",
    "    def num_flat_features(self, x):\n",
    "        size = x.size()[1:]  # all dimensions except the batch dimension\n",
    "        num_features = 1\n",
    "        for s in size:\n",
    "            num_features *= s\n",
    "        return num_features\n",
    "\n",
    "\n",
    "net = Net()\n",
    "print(net)\n",
    "help(Variable.view)"
   ]
  },
  {
   "cell_type": "code",
   "execution_count": 2,
   "metadata": {},
   "outputs": [
    {
     "name": "stdout",
     "output_type": "stream",
     "text": [
      "10\n",
      "torch.Size([6, 1, 5, 5])\n",
      "torch.Size([16, 6, 5, 5])\n"
     ]
    }
   ],
   "source": [
    "# forward function is defined by myself and backward function is \n",
    "# automatically defined by autograd\n",
    "# the learnable parameters are returned by net.parameters()\n",
    "\n",
    "params = list(net.parameters())\n",
    "print(len(params))\n",
    "print(params[0].size()) # conv1 weight [out_channel,in_channel,size]\n",
    "print(params[2].size()) # conv2 weight\n",
    "# print(params[0])"
   ]
  },
  {
   "cell_type": "code",
   "execution_count": 3,
   "metadata": {},
   "outputs": [
    {
     "name": "stdout",
     "output_type": "stream",
     "text": [
      "Variable containing:\n",
      "(0 ,0 ,.,.) = \n",
      " -0.2462 -1.3573  2.2946  ...  -0.0505 -0.3896  1.0694\n",
      " -0.0446 -0.9110  0.8707  ...  -1.7768  0.8228 -0.7090\n",
      "  0.2565  1.2190  0.3005  ...   0.7434  0.0394  0.3056\n",
      "           ...             ⋱             ...          \n",
      " -1.5350  0.2739 -0.9721  ...  -0.0098  0.9692 -0.5719\n",
      " -0.6183  1.5776  0.2210  ...   0.2103  1.1442  0.4469\n",
      "  1.8332  1.3993  1.1494  ...  -0.4118  0.9996  0.5227\n",
      "[torch.FloatTensor of size 1x1x32x32]\n",
      "\n"
     ]
    }
   ],
   "source": [
    "# the input and output of NN are both autograd.Variable\n",
    "input = Variable(torch.randn(1,1,32,32))\n",
    "print(input)"
   ]
  },
  {
   "cell_type": "code",
   "execution_count": 4,
   "metadata": {},
   "outputs": [
    {
     "name": "stdout",
     "output_type": "stream",
     "text": [
      "Variable containing:\n",
      "-0.0700 -0.0449 -0.0264 -0.0286 -0.0369 -0.0023 -0.0357 -0.1086  0.0340 -0.0314\n",
      "[torch.FloatTensor of size 1x10]\n",
      "\n"
     ]
    }
   ],
   "source": [
    "out = net(input)\n",
    "print(out)"
   ]
  },
  {
   "cell_type": "code",
   "execution_count": 5,
   "metadata": {
    "collapsed": true
   },
   "outputs": [],
   "source": [
    "# zero the gradient buffers of all parameters and backprops with random gradients \n",
    "net.zero_grad()\n",
    "out.backward(torch.randn(1,10)) #backprop from random(1,10)"
   ]
  },
  {
   "cell_type": "code",
   "execution_count": 6,
   "metadata": {
    "collapsed": true
   },
   "outputs": [],
   "source": [
    "# torch.nn only supports mini-batch of samples, not single samples\n",
    "# e.g. nn.Conv2d takes 4D tensor as nSamples x nChannels x Height x Width\n",
    "# for single sample, use input.unsqueeze(0) to add fake batch dimension\n",
    "\n",
    "# recap of classes\n",
    "# torch.tensor: multi-dim array\n",
    "# autograd.Variable: warps a tensor and record history of operations applied to it\n",
    "# nn.Module: neural network module \n",
    "# nn.Parameter: automatically register parameters of neural network \n",
    "# autograd.Function: implement forward and backward definitions of a autograd operation"
   ]
  },
  {
   "cell_type": "code",
   "execution_count": 9,
   "metadata": {},
   "outputs": [
    {
     "name": "stdout",
     "output_type": "stream",
     "text": [
      "Variable containing:\n",
      "  1\n",
      "  2\n",
      "  3\n",
      "  4\n",
      "  5\n",
      "  6\n",
      "  7\n",
      "  8\n",
      "  9\n",
      " 10\n",
      "[torch.FloatTensor of size 10]\n",
      "\n",
      "Variable containing:\n",
      " 38.8384\n",
      "[torch.FloatTensor of size 1]\n",
      "\n"
     ]
    }
   ],
   "source": [
    "# loss function(here is MSE loss) \n",
    "output = net(input)\n",
    "target = Variable(torch.arange(1,11)) # 1:10\n",
    "print(target) # assume this is ground-truth \n",
    "criterion = nn.MSELoss()\n",
    "\n",
    "loss = criterion(output,target)\n",
    "print(loss)"
   ]
  },
  {
   "cell_type": "code",
   "execution_count": 12,
   "metadata": {},
   "outputs": [
    {
     "name": "stdout",
     "output_type": "stream",
     "text": [
      "<torch.autograd.function.MSELossBackward object at 0x7f251c0e1048>\n",
      "<torch.autograd.function.AddmmBackward object at 0x7f251c138e58>\n",
      "<AccumulateGrad object at 0x7f251f1d6b00>\n"
     ]
    }
   ],
   "source": [
    "# steps backward\n",
    "print(loss.grad_fn) # MSE Loss\n",
    "print(loss.grad_fn.next_functions[0][0]) #FC layer \n",
    "print(loss.grad_fn.next_functions[0][0].next_functions[0][0]) #ReLU"
   ]
  },
  {
   "cell_type": "code",
   "execution_count": 13,
   "metadata": {},
   "outputs": [
    {
     "name": "stdout",
     "output_type": "stream",
     "text": [
      "conv1.bias.grad before backward\n",
      "Variable containing:\n",
      " 0\n",
      " 0\n",
      " 0\n",
      " 0\n",
      " 0\n",
      " 0\n",
      "[torch.FloatTensor of size 6]\n",
      "\n",
      "conv1.bias.grad after backward\n",
      "Variable containing:\n",
      "1.00000e-02 *\n",
      "  4.7322\n",
      "  4.1020\n",
      "  3.5328\n",
      " -6.9231\n",
      " -3.9706\n",
      "  2.4370\n",
      "[torch.FloatTensor of size 6]\n",
      "\n"
     ]
    }
   ],
   "source": [
    "# use loss.backward() to backpropagate the error \n",
    "net.zero_grad()\n",
    "print('conv1.bias.grad before backward')\n",
    "print(net.conv1.bias.grad)\n",
    "\n",
    "loss.backward()\n",
    "\n",
    "print('conv1.bias.grad after backward')\n",
    "print(net.conv1.bias.grad)\n"
   ]
  },
  {
   "cell_type": "code",
   "execution_count": 14,
   "metadata": {
    "collapsed": true
   },
   "outputs": [],
   "source": [
    "# use SGD(default method) to update weights: \n",
    "# weight = weight - learning_rate * gradient \n",
    "learning_rate = 0.1\n",
    "for f in net.parameters():\n",
    "    f.data.sub_(f.grad.data*learning_rate) # subtraction of weights "
   ]
  },
  {
   "cell_type": "code",
   "execution_count": 15,
   "metadata": {
    "collapsed": true
   },
   "outputs": [],
   "source": [
    "# import module torch.optim to select optimization method \n",
    "import torch.optim as optim \n",
    "\n",
    "# create optimizer\n",
    "optimizer = optim.SGD(net.parameters(),lr = 0.01)\n",
    "\n",
    "# in trainning loop \n",
    "optimizer.zero_grad() # zero gradient buffer \n",
    "output = net(input)\n",
    "loss = criterion(output,target)\n",
    "loss.backward()\n",
    "optimizer.step() #update weights "
   ]
  },
  {
   "cell_type": "code",
   "execution_count": 5,
   "metadata": {},
   "outputs": [
    {
     "name": "stdout",
     "output_type": "stream",
     "text": [
      "[]\n"
     ]
    }
   ],
   "source": [
    "string = [1,2,3,4,5,6]\n",
    "print(string[0:1:-1])"
   ]
  },
  {
   "cell_type": "code",
   "execution_count": null,
   "metadata": {
    "collapsed": true
   },
   "outputs": [],
   "source": []
  }
 ],
 "metadata": {
  "kernelspec": {
   "display_name": "Python 3",
   "language": "python",
   "name": "python3"
  },
  "language_info": {
   "codemirror_mode": {
    "name": "ipython",
    "version": 3
   },
   "file_extension": ".py",
   "mimetype": "text/x-python",
   "name": "python",
   "nbconvert_exporter": "python",
   "pygments_lexer": "ipython3",
   "version": "3.6.3"
  }
 },
 "nbformat": 4,
 "nbformat_minor": 2
}
