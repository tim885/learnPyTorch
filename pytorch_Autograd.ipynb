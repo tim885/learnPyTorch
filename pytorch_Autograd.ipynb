{
 "cells": [
  {
   "cell_type": "code",
   "execution_count": 2,
   "metadata": {},
   "outputs": [
    {
     "name": "stdout",
     "output_type": "stream",
     "text": [
      "Variable containing:\n",
      " 1  1\n",
      " 1  1\n",
      "[torch.FloatTensor of size 2x2]\n",
      "\n"
     ]
    }
   ],
   "source": [
    "# Autograd:automatic differentiation(automatic backpropagation) \n",
    "# Central to all neural networks in pytorch, autograd package provides \n",
    "# automatic differentiation for all operations on tensors.\n",
    "\n",
    "# autograd.Variable is the central class of package, it warps a tensor \n",
    "# and supports nearly all of operations on it. It contains three class:data,grad and creator\n",
    "import torch\n",
    "from torch.autograd import Variable\n",
    "x = Variable(torch.ones(2,2), requires_grad = True)\n",
    "print(x)"
   ]
  },
  {
   "cell_type": "code",
   "execution_count": 3,
   "metadata": {},
   "outputs": [
    {
     "name": "stdout",
     "output_type": "stream",
     "text": [
      "Variable containing:\n",
      " 3  3\n",
      " 3  3\n",
      "[torch.FloatTensor of size 2x2]\n",
      "\n",
      "<torch.autograd.function.AddConstantBackward object at 0x7fc4a1900a98>\n"
     ]
    }
   ],
   "source": [
    "y = x+2\n",
    "print(y) \n",
    "print(y.grad_fn) #y is created by operation, so have .grad_fn "
   ]
  },
  {
   "cell_type": "code",
   "execution_count": 4,
   "metadata": {},
   "outputs": [
    {
     "name": "stdout",
     "output_type": "stream",
     "text": [
      "Variable containing:\n",
      " 27  27\n",
      " 27  27\n",
      "[torch.FloatTensor of size 2x2]\n",
      " Variable containing:\n",
      " 27\n",
      "[torch.FloatTensor of size 1]\n",
      "\n"
     ]
    }
   ],
   "source": [
    "z = y*y*3\n",
    "out = z.mean()\n",
    "print(z,out)"
   ]
  },
  {
   "cell_type": "code",
   "execution_count": 7,
   "metadata": {},
   "outputs": [
    {
     "name": "stdout",
     "output_type": "stream",
     "text": [
      "Variable containing:\n",
      " 4.5000  4.5000\n",
      " 4.5000  4.5000\n",
      "[torch.FloatTensor of size 2x2]\n",
      "\n"
     ]
    }
   ],
   "source": [
    "# calculate gradient d(out)/dx as z = 3(x+2)^2\n",
    "out.backward() # do backward for out(x)\n",
    "print(x.grad) # get derivative(gradient) along x "
   ]
  },
  {
   "cell_type": "code",
   "execution_count": 8,
   "metadata": {},
   "outputs": [
    {
     "name": "stdout",
     "output_type": "stream",
     "text": [
      "Variable containing:\n",
      " -679.9489\n",
      " -812.5316\n",
      " 1107.8859\n",
      "[torch.FloatTensor of size 3]\n",
      "\n"
     ]
    }
   ],
   "source": [
    "x = torch.randn(3)\n",
    "x = Variable(x,requires_grad=True)\n",
    "y = x*2\n",
    "while y.data.norm()<1000:\n",
    "    y = y*2\n",
    "    \n",
    "print(y)\n"
   ]
  },
  {
   "cell_type": "code",
   "execution_count": 10,
   "metadata": {},
   "outputs": [
    {
     "name": "stdout",
     "output_type": "stream",
     "text": [
      "Variable containing:\n",
      "  204.8000\n",
      " 2048.0000\n",
      "    0.2048\n",
      "[torch.FloatTensor of size 3]\n",
      "\n",
      "\n",
      " 1.0000e-01\n",
      " 1.0000e+00\n",
      " 1.0000e-04\n",
      "[torch.FloatTensor of size 3]\n",
      "\n"
     ]
    }
   ],
   "source": [
    "gradients = torch.FloatTensor([0.1,1.0,0.0001])\n",
    "y.backward(gradients)\n",
    "\n",
    "print(x.grad)\n",
    "print(gradients)"
   ]
  },
  {
   "cell_type": "code",
   "execution_count": 13,
   "metadata": {},
   "outputs": [
    {
     "name": "stdout",
     "output_type": "stream",
     "text": [
      "Help on getset descriptor torch._C._VariableBase.grad:\n",
      "\n",
      "grad\n",
      "\n"
     ]
    }
   ],
   "source": [
    "help(Variable.grad)"
   ]
  },
  {
   "cell_type": "code",
   "execution_count": null,
   "metadata": {
    "collapsed": true
   },
   "outputs": [],
   "source": []
  }
 ],
 "metadata": {
  "kernelspec": {
   "display_name": "Python 3",
   "language": "python",
   "name": "python3"
  },
  "language_info": {
   "codemirror_mode": {
    "name": "ipython",
    "version": 3
   },
   "file_extension": ".py",
   "mimetype": "text/x-python",
   "name": "python",
   "nbconvert_exporter": "python",
   "pygments_lexer": "ipython3",
   "version": "3.6.3"
  }
 },
 "nbformat": 4,
 "nbformat_minor": 2
}
