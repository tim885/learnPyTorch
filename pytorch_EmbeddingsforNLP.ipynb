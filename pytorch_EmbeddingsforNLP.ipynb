{
 "cells": [
  {
   "cell_type": "code",
   "execution_count": 23,
   "metadata": {},
   "outputs": [
    {
     "name": "stdout",
     "output_type": "stream",
     "text": [
      "Variable containing:\n",
      "-2.9718  1.7070 -0.4305 -2.2820  0.5237\n",
      "[torch.FloatTensor of size 1x5]\n",
      "\n"
     ]
    }
   ],
   "source": [
    "# Basic concepts \n",
    "# Word embeddings are dense vectors of real numbers, one per word in your vocabulary\n",
    "# inputs are |V| dimension where V is vocabulary \n",
    "# outpust are a few dimension vector \n",
    "\n",
    "# we need to find semantic similarity between sentences \n",
    "# fundamental linguistic assumption: distributional hypothesis\n",
    "# words appearing in similar contexts are related to each other semantically\n",
    "\n",
    "# 'semantic attribute' such as \"can run\", \"likes coffee\", \"majored in Physics\" \n",
    "# give each word a vector [2.3,9.4,...], each feature is a 'semantic attribute'\n",
    "# as a consequence, we can calculate \"semantic similarity\" by cos(theta) between two vector \n",
    "# let word embeddings as parameters of model to be learnt, they are perhaps unterpretable\n",
    "\n",
    "# word embedding in Pytorch\n",
    "# embeddings are stored as |V|xD matrix, where row represents the index of a word \n",
    "\n",
    "import torch\n",
    "import torch.autograd as autograd\n",
    "import torch.nn as nn\n",
    "import torch.nn.functional as F\n",
    "import torch.optim as optim\n",
    "\n",
    "torch.manual_seed(1) # set seeds for generating random numbers \n",
    "\n",
    "word_to_ix = {\"hello\": 0, \"world\": 1} # dirctionary of vocabulary\n",
    "embeds = nn.Embedding(2, 5)  # 2 words in vocab, 5 dimensional embeddings\n",
    "lookup_tensor = torch.LongTensor([word_to_ix[\"hello\"]]) # index of \"hello\" in tensor  \n",
    "hello_embed = embeds(autograd.Variable(lookup_tensor))\n",
    "print(hello_embed) \n"
   ]
  },
  {
   "cell_type": "code",
   "execution_count": 24,
   "metadata": {},
   "outputs": [
    {
     "name": "stdout",
     "output_type": "stream",
     "text": [
      "[(['When', 'forty'], 'winters'), (['forty', 'winters'], 'shall'), (['winters', 'shall'], 'besiege')]\n",
      "{'thy', 'succession', 'now,', 'to', 'worth', 'days;', 'How', 'besiege', 'being', 'winters', 'brow,', 'much', 'When', 'be', 'cold.', 'within', 'answer', 'in', 'thou', 'new', 'made', 'dig', 'so', 'Were', 'Proving', 'say,', 'fair', 'weed', 'mine', 'gazed', 'asked,', 'couldst', \"youth's\", 'small', 'thriftless', 'of', 'a', 'it', 'all-eating', 'own', 'sunken', 'and', 'blood', 'And', 'art', 'old,', 'To', 'see', 'eyes,', \"beauty's\", 'beauty', 'livery', 'treasure', 'lusty', 'Thy', 'Will', 'make', 'Shall', \"totter'd\", 'old', 'praise', 'child', 'count,', 'lies,', 'praise.', \"excuse,'\", 'proud', 'thine!', 'deep', 'where', 'If', 'use,', 'on', 'This', \"feel'st\", 'all', 'the', 'trenches', 'shall', 'thine', \"'This\", 'an', 'warm', 'more', 'his', 'by', 'held:', 'sum', 'when', 'my', 'Then', \"deserv'd\", 'were', 'field,', 'Where', 'shame,', 'forty'}\n",
      "{'thy': 0, 'succession': 1, 'now,': 2, 'to': 3, 'worth': 4, 'days;': 5, 'How': 6, 'besiege': 7, 'being': 8, 'winters': 9, 'brow,': 10, 'much': 11, 'When': 12, 'be': 13, 'cold.': 14, 'within': 15, 'answer': 16, 'in': 17, 'thou': 18, 'new': 19, 'made': 20, 'dig': 21, 'so': 22, 'Were': 23, 'Proving': 24, 'say,': 25, 'fair': 26, 'weed': 27, 'mine': 28, 'gazed': 29, 'asked,': 30, 'couldst': 31, \"youth's\": 32, 'small': 33, 'thriftless': 34, 'of': 35, 'a': 36, 'it': 37, 'all-eating': 38, 'own': 39, 'sunken': 40, 'and': 41, 'blood': 42, 'And': 43, 'art': 44, 'old,': 45, 'To': 46, 'see': 47, 'eyes,': 48, \"beauty's\": 49, 'beauty': 50, 'livery': 51, 'treasure': 52, 'lusty': 53, 'Thy': 54, 'Will': 55, 'make': 56, 'Shall': 57, \"totter'd\": 58, 'old': 59, 'praise': 60, 'child': 61, 'count,': 62, 'lies,': 63, 'praise.': 64, \"excuse,'\": 65, 'proud': 66, 'thine!': 67, 'deep': 68, 'where': 69, 'If': 70, 'use,': 71, 'on': 72, 'This': 73, \"feel'st\": 74, 'all': 75, 'the': 76, 'trenches': 77, 'shall': 78, 'thine': 79, \"'This\": 80, 'an': 81, 'warm': 82, 'more': 83, 'his': 84, 'by': 85, 'held:': 86, 'sum': 87, 'when': 88, 'my': 89, 'Then': 90, \"deserv'd\": 91, 'were': 92, 'field,': 93, 'Where': 94, 'shame,': 95, 'forty': 96}\n"
     ]
    }
   ],
   "source": [
    "# N-Gram Language Modeling \n",
    "# for a sequence of words w, we calculate w_i from w_i-n+1 to w_i\n",
    "CONTEXT_SIZE = 2 # n = 2\n",
    "EMBEDDING_DIM = 10 # embedding_dim\n",
    "\n",
    "test_sentence = \"\"\"When forty winters shall besiege thy brow,\n",
    "And dig deep trenches in thy beauty's field,\n",
    "Thy youth's proud livery so gazed on now,\n",
    "Will be a totter'd weed of small worth held:\n",
    "Then being asked, where all thy beauty lies,\n",
    "Where all the treasure of thy lusty days;\n",
    "To say, within thine own deep sunken eyes,\n",
    "Were an all-eating shame, and thriftless praise.\n",
    "How much more praise deserv'd thy beauty's use,\n",
    "If thou couldst answer 'This fair child of mine\n",
    "Shall sum my count, and make my old excuse,'\n",
    "Proving his beauty by succession thine!\n",
    "This were to be new made when thou art old,\n",
    "And see thy blood warm when thou feel'st it cold.\"\"\".split()\n",
    "\n",
    "# we should tokenize the input, but we will ignore that for now\n",
    "# build a list of tuples.  Each tuple is ([ word_i-2, word_i-1 ], target word)\n",
    "\n",
    "trigrams = [([test_sentence[i], test_sentence[i + 1]], test_sentence[i + 2])\n",
    "            for i in range(len(test_sentence) - 2)]\n",
    "print(trigrams[:3]) # print the first 3 trigrams\n",
    "vocab = set(test_sentence) # vocabulary of sentence \n",
    "print(vocab) \n",
    "word_to_ix = {word: i for i, word in enumerate(vocab)}\n",
    "print(word_to_ix) # word and refered index \n",
    "\n",
    "class NGramLanguageModeler(nn.Module):\n",
    "\n",
    "    def __init__(self, vocab_size, embedding_dim, context_size):\n",
    "        super(NGramLanguageModeler, self).__init__()\n",
    "        self.embeddings = nn.Embedding(vocab_size, embedding_dim)\n",
    "        self.linear1 = nn.Linear(context_size * embedding_dim, 128)\n",
    "        self.linear2 = nn.Linear(128, vocab_size)\n",
    "        \n",
    "    def forward(self, inputs):\n",
    "        embeds = self.embeddings(inputs).view((1, -1))\n",
    "        out = F.relu(self.linear1(embeds))\n",
    "        out = self.linear2(out)\n",
    "        log_probs = F.log_softmax(out) # log-softmax for output\n",
    "        return log_probs        \n",
    "\n",
    "losses = []\n",
    "loss_function = nn.NLLLoss() # Negative log loss\n",
    "\n",
    "model = NGramLanguageModeler(len(vocab), EMBEDDING_DIM, CONTEXT_SIZE)\n",
    "optimizer = optim.SGD(model.parameters(), lr=0.001)\n",
    "\n"
   ]
  },
  {
   "cell_type": "code",
   "execution_count": 25,
   "metadata": {},
   "outputs": [
    {
     "name": "stdout",
     "output_type": "stream",
     "text": [
      "[\n",
      " 520.2759\n",
      "[torch.FloatTensor of size 1]\n",
      ", \n",
      " 517.9081\n",
      "[torch.FloatTensor of size 1]\n",
      ", \n",
      " 515.5548\n",
      "[torch.FloatTensor of size 1]\n",
      ", \n",
      " 513.2136\n",
      "[torch.FloatTensor of size 1]\n",
      ", \n",
      " 510.8837\n",
      "[torch.FloatTensor of size 1]\n",
      ", \n",
      " 508.5640\n",
      "[torch.FloatTensor of size 1]\n",
      ", \n",
      " 506.2554\n",
      "[torch.FloatTensor of size 1]\n",
      ", \n",
      " 503.9563\n",
      "[torch.FloatTensor of size 1]\n",
      ", \n",
      " 501.6659\n",
      "[torch.FloatTensor of size 1]\n",
      ", \n",
      " 499.3838\n",
      "[torch.FloatTensor of size 1]\n",
      "]\n"
     ]
    }
   ],
   "source": [
    "for epoch in range(10):\n",
    "    total_loss = torch.Tensor([0])\n",
    "    for context, target in trigrams:\n",
    "\n",
    "        # Step 1. Prepare the inputs to be passed to the model (i.e, turn the words\n",
    "        # into integer indices and wrap them in variables)\n",
    "        context_idxs = [word_to_ix[w] for w in context]\n",
    "        context_var = autograd.Variable(torch.LongTensor(context_idxs))\n",
    "\n",
    "        # Step 2. Recall that torch *accumulates* gradients. Before passing in a\n",
    "        # new instance, you need to zero out the gradients from the old\n",
    "        # instance\n",
    "        model.zero_grad()\n",
    "\n",
    "        # Step 3. Run the forward pass, getting log probabilities over next\n",
    "        # words\n",
    "        log_probs = model(context_var)\n",
    "\n",
    "        # Step 4. Compute your loss function. (Again, Torch wants the target\n",
    "        # word wrapped in a variable)\n",
    "        loss = loss_function(log_probs, autograd.Variable(\n",
    "            torch.LongTensor([word_to_ix[target]])))\n",
    "\n",
    "        # Step 5. Do the backward pass and update the gradient\n",
    "        loss.backward()\n",
    "        optimizer.step()\n",
    "\n",
    "        total_loss += loss.data\n",
    "    losses.append(total_loss)\n",
    "print(losses)  # The loss decreased every iteration over the training data!"
   ]
  },
  {
   "cell_type": "code",
   "execution_count": 26,
   "metadata": {},
   "outputs": [
    {
     "name": "stdout",
     "output_type": "stream",
     "text": [
      "[(['We', 'are', 'to', 'study'], 'about'), (['are', 'about', 'study', 'the'], 'to'), (['about', 'to', 'the', 'idea'], 'study'), (['to', 'study', 'idea', 'of'], 'the'), (['study', 'the', 'of', 'a'], 'idea')]\n"
     ]
    },
    {
     "data": {
      "text/plain": [
       "Variable containing:\n",
       " 21\n",
       " 36\n",
       "  1\n",
       " 13\n",
       "[torch.LongTensor of size 4]"
      ]
     },
     "execution_count": 26,
     "metadata": {},
     "output_type": "execute_result"
    }
   ],
   "source": [
    "# predict words meaning with continous-bag-of-words\n",
    "\n",
    "CONTEXT_SIZE = 2  # 2 words to the left, 2 to the right, length of bag-of-words\n",
    "raw_text = \"\"\"We are about to study the idea of a computational process.\n",
    "Computational processes are abstract beings that inhabit computers.\n",
    "As they evolve, processes manipulate other abstract things called data.\n",
    "The evolution of a process is directed by a pattern of rules\n",
    "called a program. People create programs to direct processes. In effect,\n",
    "we conjure the spirits of the computer with our spells.\"\"\".split()\n",
    "\n",
    "# By deriving a set from `raw_text`, we deduplicate the array\n",
    "vocab = set(raw_text)\n",
    "vocab_size = len(vocab)\n",
    "word_to_ix = {word: i for i, word in enumerate(vocab)}\n",
    "\n",
    "data = []\n",
    "for i in range(2, len(raw_text) - 2):\n",
    "    # before and after context\n",
    "    context = [raw_text[i - 2], raw_text[i - 1],\n",
    "               raw_text[i + 1], raw_text[i + 2]]\n",
    "    target = raw_text[i] # target word to be predicted\n",
    "    data.append((context, target))\n",
    "print(data[:5])\n",
    "\n",
    "class CBOW(nn.Module):\n",
    "\n",
    "    def __init__(self):\n",
    "        pass\n",
    "\n",
    "    def forward(self, inputs):\n",
    "        pass\n",
    "\n",
    "# create your model and train.  here are some functions to help you make\n",
    "# the data ready for use by your module\n",
    "\n",
    "\n",
    "def make_context_vector(context, word_to_ix):\n",
    "    idxs = [word_to_ix[w] for w in context]\n",
    "    tensor = torch.LongTensor(idxs)\n",
    "    return autograd.Variable(tensor)\n",
    "\n",
    "\n",
    "make_context_vector(data[0][0], word_to_ix)  # example  "
   ]
  },
  {
   "cell_type": "code",
   "execution_count": 27,
   "metadata": {},
   "outputs": [
    {
     "name": "stdout",
     "output_type": "stream",
     "text": [
      "[(['We', 'are', 'to', 'study'], 'about'), (['are', 'about', 'study', 'the'], 'to'), (['about', 'to', 'the', 'idea'], 'study'), (['to', 'study', 'idea', 'of'], 'the'), (['study', 'the', 'of', 'a'], 'idea'), (['the', 'idea', 'a', 'computational'], 'of'), (['idea', 'of', 'computational', 'process.'], 'a'), (['of', 'a', 'process.', 'Computational'], 'computational'), (['a', 'computational', 'Computational', 'processes'], 'process.'), (['computational', 'process.', 'processes', 'are'], 'Computational'), (['process.', 'Computational', 'are', 'abstract'], 'processes'), (['Computational', 'processes', 'abstract', 'beings'], 'are'), (['processes', 'are', 'beings', 'that'], 'abstract'), (['are', 'abstract', 'that', 'inhabit'], 'beings'), (['abstract', 'beings', 'inhabit', 'computers.'], 'that'), (['beings', 'that', 'computers.', 'As'], 'inhabit'), (['that', 'inhabit', 'As', 'they'], 'computers.'), (['inhabit', 'computers.', 'they', 'evolve,'], 'As'), (['computers.', 'As', 'evolve,', 'processes'], 'they'), (['As', 'they', 'processes', 'manipulate'], 'evolve,'), (['they', 'evolve,', 'manipulate', 'other'], 'processes'), (['evolve,', 'processes', 'other', 'abstract'], 'manipulate'), (['processes', 'manipulate', 'abstract', 'things'], 'other'), (['manipulate', 'other', 'things', 'called'], 'abstract'), (['other', 'abstract', 'called', 'data.'], 'things'), (['abstract', 'things', 'data.', 'The'], 'called'), (['things', 'called', 'The', 'evolution'], 'data.'), (['called', 'data.', 'evolution', 'of'], 'The'), (['data.', 'The', 'of', 'a'], 'evolution'), (['The', 'evolution', 'a', 'process'], 'of'), (['evolution', 'of', 'process', 'is'], 'a'), (['of', 'a', 'is', 'directed'], 'process'), (['a', 'process', 'directed', 'by'], 'is'), (['process', 'is', 'by', 'a'], 'directed'), (['is', 'directed', 'a', 'pattern'], 'by'), (['directed', 'by', 'pattern', 'of'], 'a'), (['by', 'a', 'of', 'rules'], 'pattern'), (['a', 'pattern', 'rules', 'called'], 'of'), (['pattern', 'of', 'called', 'a'], 'rules'), (['of', 'rules', 'a', 'program.'], 'called'), (['rules', 'called', 'program.', 'People'], 'a'), (['called', 'a', 'People', 'create'], 'program.'), (['a', 'program.', 'create', 'programs'], 'People'), (['program.', 'People', 'programs', 'to'], 'create'), (['People', 'create', 'to', 'direct'], 'programs'), (['create', 'programs', 'direct', 'processes.'], 'to'), (['programs', 'to', 'processes.', 'In'], 'direct'), (['to', 'direct', 'In', 'effect,'], 'processes.'), (['direct', 'processes.', 'effect,', 'we'], 'In'), (['processes.', 'In', 'we', 'conjure'], 'effect,'), (['In', 'effect,', 'conjure', 'the'], 'we'), (['effect,', 'we', 'the', 'spirits'], 'conjure'), (['we', 'conjure', 'spirits', 'of'], 'the'), (['conjure', 'the', 'of', 'the'], 'spirits'), (['the', 'spirits', 'the', 'computer'], 'of'), (['spirits', 'of', 'computer', 'with'], 'the'), (['of', 'the', 'with', 'our'], 'computer'), (['the', 'computer', 'our', 'spells.'], 'with')]\n"
     ]
    }
   ],
   "source": [
    "print(data)"
   ]
  },
  {
   "cell_type": "code",
   "execution_count": null,
   "metadata": {
    "collapsed": true
   },
   "outputs": [],
   "source": []
  }
 ],
 "metadata": {
  "kernelspec": {
   "display_name": "Python 3",
   "language": "python",
   "name": "python3"
  },
  "language_info": {
   "codemirror_mode": {
    "name": "ipython",
    "version": 3
   },
   "file_extension": ".py",
   "mimetype": "text/x-python",
   "name": "python",
   "nbconvert_exporter": "python",
   "pygments_lexer": "ipython3",
   "version": "3.6.3"
  }
 },
 "nbformat": 4,
 "nbformat_minor": 2
}
