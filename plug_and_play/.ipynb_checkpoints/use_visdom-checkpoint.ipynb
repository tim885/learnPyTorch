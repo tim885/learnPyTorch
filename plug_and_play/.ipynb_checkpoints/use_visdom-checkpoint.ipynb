{
 "cells": [
  {
   "cell_type": "code",
   "execution_count": 1,
   "metadata": {},
   "outputs": [],
   "source": [
    "from __future__ import absolute_import\n",
    "from __future__ import division\n",
    "from __future__ import print_function\n",
    "from __future__ import unicode_literals\n",
    "\n",
    "from visdom import Visdom\n",
    "import numpy as np\n",
    "import math\n",
    "import os.path\n",
    "import getpass\n",
    "import time\n",
    "from sys import platform as _platform\n",
    "from six.moves import urllib\n"
   ]
  },
  {
   "cell_type": "code",
   "execution_count": 3,
   "metadata": {},
   "outputs": [],
   "source": [
    "# first of all, build server in shell: python -m visdom.server\n",
    "viz = Visdom()\n",
    "textwindow = viz.text('hello world!')"
   ]
  },
  {
   "cell_type": "code",
   "execution_count": 4,
   "metadata": {},
   "outputs": [],
   "source": [
    "updatetextwindow = viz.text('Hello World! More text should be here')"
   ]
  },
  {
   "cell_type": "code",
   "execution_count": 5,
   "metadata": {},
   "outputs": [
    {
     "data": {
      "text/plain": [
       "'window_367e02d149c422'"
      ]
     },
     "execution_count": 5,
     "metadata": {},
     "output_type": "execute_result"
    }
   ],
   "source": [
    "# append text on an existing window \n",
    "viz.text('And here it is', win=updatetextwindow, append=True)"
   ]
  },
  {
   "cell_type": "code",
   "execution_count": 8,
   "metadata": {},
   "outputs": [],
   "source": [
    "# text window with Callbacks(such as Enter, Delete, Backspace,...)\n",
    "txt = 'This is a write demo notepad. Type below. Delete clears text:<br>'\n",
    "callback_text_window = viz.text(txt)\n",
    "\n",
    "def type_callback(event):\n",
    "        if event['event_type'] == 'KeyPress':\n",
    "            curr_txt = event['pane_data']['content']\n",
    "            if event['key'] == 'Enter':\n",
    "                curr_txt += '<br>'\n",
    "            elif event['key'] == 'Backspace':\n",
    "                curr_txt = curr_txt[:-1]\n",
    "            elif event['key'] == 'Delete':\n",
    "                curr_txt = txt\n",
    "            elif len(event['key']) == 1:\n",
    "                curr_txt += event['key']\n",
    "            viz.text(curr_txt, win=callback_text_window)\n",
    "\n",
    "# register callback window             \n",
    "viz.register_event_handler(type_callback, callback_text_window)\n"
   ]
  },
  {
   "cell_type": "code",
   "execution_count": 10,
   "metadata": {},
   "outputs": [
    {
     "data": {
      "text/plain": [
       "'window_367e046d7e8cbe'"
      ]
     },
     "execution_count": 10,
     "metadata": {},
     "output_type": "execute_result"
    },
    {
     "data": {
      "image/png": "[encoded data removed]",
      "text/plain": [
       "<matplotlib.figure.Figure at 0x7efd92a07e48>"
      ]
     },
     "metadata": {},
     "output_type": "display_data"
    }
   ],
   "source": [
    "# matplotlib demo:\n",
    "import matplotlib.pyplot as plt\n",
    "plt.plot([1, 23, 2, 4])\n",
    "plt.ylabel('some numbers')\n",
    "plt.title('printed by matplotlib and showed in visdom')\n",
    "viz.matplot(plt)"
   ]
  },
  {
   "cell_type": "code",
   "execution_count": 14,
   "metadata": {},
   "outputs": [
    {
     "ename": "AssertionError",
     "evalue": "video writer could not be opened",
     "output_type": "error",
     "traceback": [
      "\u001b[0;31m---------------------------------------------------------------------------\u001b[0m",
      "\u001b[0;31mAssertionError\u001b[0m                            Traceback (most recent call last)",
      "\u001b[0;32m<ipython-input-14-eae1434460b8>\u001b[0m in \u001b[0;36m<module>\u001b[0;34m()\u001b[0m\n\u001b[1;32m      3\u001b[0m \u001b[0;32mfor\u001b[0m \u001b[0mn\u001b[0m \u001b[0;32min\u001b[0m \u001b[0mrange\u001b[0m\u001b[0;34m(\u001b[0m\u001b[0;36m256\u001b[0m\u001b[0;34m)\u001b[0m\u001b[0;34m:\u001b[0m\u001b[0;34m\u001b[0m\u001b[0m\n\u001b[1;32m      4\u001b[0m     \u001b[0mvideo\u001b[0m\u001b[0;34m[\u001b[0m\u001b[0mn\u001b[0m\u001b[0;34m,\u001b[0m \u001b[0;34m:\u001b[0m\u001b[0;34m,\u001b[0m \u001b[0;34m:\u001b[0m\u001b[0;34m,\u001b[0m \u001b[0;34m:\u001b[0m\u001b[0;34m]\u001b[0m\u001b[0;34m.\u001b[0m\u001b[0mfill\u001b[0m\u001b[0;34m(\u001b[0m\u001b[0mn\u001b[0m\u001b[0;34m)\u001b[0m\u001b[0;34m\u001b[0m\u001b[0m\n\u001b[0;32m----> 5\u001b[0;31m \u001b[0mviz\u001b[0m\u001b[0;34m.\u001b[0m\u001b[0mvideo\u001b[0m\u001b[0;34m(\u001b[0m\u001b[0mtensor\u001b[0m\u001b[0;34m=\u001b[0m\u001b[0mvideo\u001b[0m\u001b[0;34m)\u001b[0m\u001b[0;34m\u001b[0m\u001b[0m\n\u001b[0m\u001b[1;32m      6\u001b[0m \u001b[0;34m\u001b[0m\u001b[0m\n\u001b[1;32m      7\u001b[0m \u001b[0;31m# download video from http://media.w3.org/2010/05/sintel/trailer.ogv\u001b[0m\u001b[0;34m\u001b[0m\u001b[0;34m\u001b[0m\u001b[0m\n",
      "\u001b[0;32m~/anaconda3/lib/python3.6/site-packages/visdom/__init__.py\u001b[0m in \u001b[0;36mwrapped_f\u001b[0;34m(*args, **kwargs)\u001b[0m\n\u001b[1;32m    283\u001b[0m         \u001b[0margs\u001b[0m \u001b[0;34m=\u001b[0m \u001b[0;34m(\u001b[0m\u001b[0m_torch_to_numpy\u001b[0m\u001b[0;34m(\u001b[0m\u001b[0marg\u001b[0m\u001b[0;34m)\u001b[0m \u001b[0;32mfor\u001b[0m \u001b[0marg\u001b[0m \u001b[0;32min\u001b[0m \u001b[0margs\u001b[0m\u001b[0;34m)\u001b[0m\u001b[0;34m\u001b[0m\u001b[0m\n\u001b[1;32m    284\u001b[0m         \u001b[0mkwargs\u001b[0m \u001b[0;34m=\u001b[0m \u001b[0;34m{\u001b[0m\u001b[0mk\u001b[0m\u001b[0;34m:\u001b[0m \u001b[0m_torch_to_numpy\u001b[0m\u001b[0;34m(\u001b[0m\u001b[0mv\u001b[0m\u001b[0;34m)\u001b[0m \u001b[0;32mfor\u001b[0m \u001b[0;34m(\u001b[0m\u001b[0mk\u001b[0m\u001b[0;34m,\u001b[0m \u001b[0mv\u001b[0m\u001b[0;34m)\u001b[0m \u001b[0;32min\u001b[0m \u001b[0mkwargs\u001b[0m\u001b[0;34m.\u001b[0m\u001b[0mitems\u001b[0m\u001b[0;34m(\u001b[0m\u001b[0;34m)\u001b[0m\u001b[0;34m}\u001b[0m\u001b[0;34m\u001b[0m\u001b[0m\n\u001b[0;32m--> 285\u001b[0;31m         \u001b[0;32mreturn\u001b[0m \u001b[0mf\u001b[0m\u001b[0;34m(\u001b[0m\u001b[0;34m*\u001b[0m\u001b[0margs\u001b[0m\u001b[0;34m,\u001b[0m \u001b[0;34m**\u001b[0m\u001b[0mkwargs\u001b[0m\u001b[0;34m)\u001b[0m\u001b[0;34m\u001b[0m\u001b[0m\n\u001b[0m\u001b[1;32m    286\u001b[0m \u001b[0;34m\u001b[0m\u001b[0m\n\u001b[1;32m    287\u001b[0m     \u001b[0;32mreturn\u001b[0m \u001b[0mwrapped_f\u001b[0m\u001b[0;34m\u001b[0m\u001b[0m\n",
      "\u001b[0;32m~/anaconda3/lib/python3.6/site-packages/visdom/__init__.py\u001b[0m in \u001b[0;36mvideo\u001b[0;34m(self, tensor, videofile, win, env, opts)\u001b[0m\n\u001b[1;32m    882\u001b[0m                 \u001b[0;34m(\u001b[0m\u001b[0mtensor\u001b[0m\u001b[0;34m.\u001b[0m\u001b[0mshape\u001b[0m\u001b[0;34m[\u001b[0m\u001b[0;36m2\u001b[0m\u001b[0;34m]\u001b[0m\u001b[0;34m,\u001b[0m \u001b[0mtensor\u001b[0m\u001b[0;34m.\u001b[0m\u001b[0mshape\u001b[0m\u001b[0;34m[\u001b[0m\u001b[0;36m1\u001b[0m\u001b[0;34m]\u001b[0m\u001b[0;34m)\u001b[0m\u001b[0;34m\u001b[0m\u001b[0m\n\u001b[1;32m    883\u001b[0m             )\n\u001b[0;32m--> 884\u001b[0;31m             \u001b[0;32massert\u001b[0m \u001b[0mwriter\u001b[0m\u001b[0;34m.\u001b[0m\u001b[0misOpened\u001b[0m\u001b[0;34m(\u001b[0m\u001b[0;34m)\u001b[0m\u001b[0;34m,\u001b[0m \u001b[0;34m'video writer could not be opened'\u001b[0m\u001b[0;34m\u001b[0m\u001b[0m\n\u001b[0m\u001b[1;32m    885\u001b[0m             \u001b[0;32mfor\u001b[0m \u001b[0mi\u001b[0m \u001b[0;32min\u001b[0m \u001b[0mrange\u001b[0m\u001b[0;34m(\u001b[0m\u001b[0mtensor\u001b[0m\u001b[0;34m.\u001b[0m\u001b[0mshape\u001b[0m\u001b[0;34m[\u001b[0m\u001b[0;36m0\u001b[0m\u001b[0;34m]\u001b[0m\u001b[0;34m)\u001b[0m\u001b[0;34m:\u001b[0m\u001b[0;34m\u001b[0m\u001b[0m\n\u001b[1;32m    886\u001b[0m                 \u001b[0;31m# TODO mute opencv on this function call somehow\u001b[0m\u001b[0;34m\u001b[0m\u001b[0;34m\u001b[0m\u001b[0m\n",
      "\u001b[0;31mAssertionError\u001b[0m: video writer could not be opened"
     ]
    }
   ],
   "source": [
    "# video demo \n",
    "video = np.empty([256, 250, 250, 3], dtype=np.uint8)\n",
    "for n in range(256):\n",
    "    video[n, :, :, :].fill(n)\n",
    "viz.video(tensor=video)\n",
    "\n",
    "# download video from http://media.w3.org/2010/05/sintel/trailer.ogv\n",
    "video_url = 'http://media.w3.org/2010/05/sintel/trailer.ogv'\n",
    "# linux\n",
    "videofile = '/home/%s/trailer.ogv' % getpass.getuser()\n",
    "# download video\n",
    "urllib.request.urlretrieve(video_url, videofile)\n",
    "\n",
    "if os.path.isfile(videofile):\n",
    "    viz.video(videofile=videofile)"
   ]
  },
  {
   "cell_type": "code",
   "execution_count": 16,
   "metadata": {},
   "outputs": [],
   "source": [
    "randImageWindow = viz.image(\n",
    "        np.random.rand(3, 512, 256),\n",
    "        opts=dict(title='Random!', caption='How random.'),\n",
    ")"
   ]
  },
  {
   "cell_type": "code",
   "execution_count": 17,
   "metadata": {},
   "outputs": [],
   "source": [
    "# grid of images\n",
    "gridImageWindow = viz.images(\n",
    "        np.random.randn(20, 3, 64, 64),\n",
    "        opts=dict(title='Random images', caption='How random.')\n",
    ")"
   ]
  },
  {
   "cell_type": "code",
   "execution_count": 18,
   "metadata": {},
   "outputs": [],
   "source": [
    "# scatter plots\n",
    "Y = np.random.rand(100)\n",
    "old_scatter = viz.scatter(\n",
    "        X=np.random.rand(100, 2),\n",
    "        Y=(Y[Y > 0] + 1.5).astype(int),\n",
    "        opts=dict(\n",
    "            legend=['Didnt', 'Update'],\n",
    "            xtickmin=-50,\n",
    "            xtickmax=50,\n",
    "            xtickstep=0.5,\n",
    "            ytickmin=-50,\n",
    "            ytickmax=50,\n",
    "            ytickstep=0.5,\n",
    "            markersymbol='cross-thin-open',\n",
    "            ),\n",
    ")"
   ]
  },
  {
   "cell_type": "code",
   "execution_count": 19,
   "metadata": {},
   "outputs": [
    {
     "data": {
      "text/plain": [
       "'window_367e0795b44684'"
      ]
     },
     "execution_count": 19,
     "metadata": {},
     "output_type": "execute_result"
    }
   ],
   "source": [
    "viz.update_window_opts(\n",
    "        win=old_scatter,\n",
    "        opts=dict(\n",
    "            legend=['Apples', 'Pears'],\n",
    "            xtickmin=0,\n",
    "            xtickmax=1,\n",
    "            xtickstep=0.5,\n",
    "            ytickmin=0,\n",
    "            ytickmax=1,\n",
    "            ytickstep=0.5,\n",
    "            markersymbol='cross-thin-open',\n",
    "        ),\n",
    ")"
   ]
  },
  {
   "cell_type": "code",
   "execution_count": 22,
   "metadata": {},
   "outputs": [
    {
     "data": {
      "text/plain": [
       "'window_367e087eec2ce6'"
      ]
     },
     "execution_count": 22,
     "metadata": {},
     "output_type": "execute_result"
    }
   ],
   "source": [
    "viz.scatter(\n",
    "        X=np.random.rand(100, 3),\n",
    "        Y=(Y + 1.5).astype(int),\n",
    "        opts=dict(\n",
    "            legend=['Men', 'Women'],\n",
    "            markersize=5,\n",
    "        )\n",
    ")"
   ]
  },
  {
   "cell_type": "code",
   "execution_count": 24,
   "metadata": {},
   "outputs": [
    {
     "data": {
      "text/plain": [
       "'window_367e08aa441ef0'"
      ]
     },
     "execution_count": 24,
     "metadata": {},
     "output_type": "execute_result"
    }
   ],
   "source": [
    "# 2D scatterplot with custom intensities (red channel)\n",
    "viz.scatter(\n",
    "        X=np.random.rand(255, 2),\n",
    "        Y=(np.random.rand(255) + 1.5).astype(int),\n",
    "        opts=dict(\n",
    "            markersize=10,\n",
    "            markercolor=np.random.randint(0, 255, (2, 3,)),\n",
    "            ),\n",
    "        )"
   ]
  },
  {
   "cell_type": "code",
   "execution_count": 25,
   "metadata": {},
   "outputs": [],
   "source": [
    "win = viz.scatter(\n",
    "        X=np.random.rand(255, 2),\n",
    "        opts=dict(\n",
    "            markersize=10,\n",
    "            markercolor=np.random.randint(0, 255, (255, 3,)),\n",
    "        ),\n",
    ")"
   ]
  },
  {
   "cell_type": "code",
   "execution_count": 26,
   "metadata": {},
   "outputs": [],
   "source": [
    "# assert that the window exists\n",
    "assert viz.win_exists(win), 'Created window marked as not existing'"
   ]
  },
  {
   "cell_type": "code",
   "execution_count": 28,
   "metadata": {},
   "outputs": [
    {
     "data": {
      "text/plain": [
       "'window_367e08e234760a'"
      ]
     },
     "execution_count": 28,
     "metadata": {},
     "output_type": "execute_result"
    }
   ],
   "source": [
    "# add new trace to scatter plot\n",
    "viz.scatter(\n",
    "        X=np.random.rand(255),\n",
    "        Y=np.random.rand(255),\n",
    "        win=win,\n",
    "        name='new_trace',\n",
    "        update='new'\n",
    "        ) \n"
   ]
  },
  {
   "cell_type": "code",
   "execution_count": 29,
   "metadata": {},
   "outputs": [
    {
     "data": {
      "text/plain": [
       "'window_367e093f500bfa'"
      ]
     },
     "execution_count": 29,
     "metadata": {},
     "output_type": "execute_result"
    }
   ],
   "source": [
    "# 2D scatter plot with text labels:\n",
    "viz.scatter(\n",
    "        X=np.random.rand(10, 2),\n",
    "        opts=dict(\n",
    "            textlabels=['Label %d' % (i + 1) for i in range(10)]\n",
    "            )\n",
    "         )\n",
    "viz.scatter(\n",
    "        X=np.random.rand(10, 2),\n",
    "        Y=[1] * 5 + [2] * 3 + [3] * 2,\n",
    "        opts=dict(\n",
    "            legend=['A', 'B', 'C'],\n",
    "            textlabels=['Label %d' % (i + 1) for i in range(10)]\n",
    "            )\n",
    "         )"
   ]
  },
  {
   "cell_type": "code",
   "execution_count": 31,
   "metadata": {},
   "outputs": [
    {
     "data": {
      "text/plain": [
       "'window_367e0988f8b5f4'"
      ]
     },
     "execution_count": 31,
     "metadata": {},
     "output_type": "execute_result"
    }
   ],
   "source": [
    "# bar plots\n",
    "viz.bar(X=np.random.rand(20))\n",
    "viz.bar(\n",
    "        X=np.abs(np.random.rand(5, 3)),\n",
    "        opts=dict(\n",
    "            stacked=True,\n",
    "            legend=['Facebook', 'Google', 'Twitter'],\n",
    "            rownames=['2012', '2013', '2014', '2015', '2016']\n",
    "            )\n",
    "       )\n",
    "viz.bar(\n",
    "        X=np.random.rand(20, 3),\n",
    "        opts=dict(\n",
    "            stacked=False,\n",
    "            legend=['The Netherlands', 'France', 'United States']\n",
    "            )\n",
    "        )"
   ]
  },
  {
   "cell_type": "code",
   "execution_count": 32,
   "metadata": {},
   "outputs": [
    {
     "data": {
      "text/plain": [
       "'window_367e09a9bc86cc'"
      ]
     },
     "execution_count": 32,
     "metadata": {},
     "output_type": "execute_result"
    }
   ],
   "source": [
    " # histogram\n",
    "viz.histogram(X=np.random.rand(10000), opts=dict(numbins=20))"
   ]
  },
  {
   "cell_type": "code",
   "execution_count": 33,
   "metadata": {},
   "outputs": [
    {
     "data": {
      "text/plain": [
       "'window_367e09c952b54a'"
      ]
     },
     "execution_count": 33,
     "metadata": {},
     "output_type": "execute_result"
    }
   ],
   "source": [
    "# heatmap\n",
    "viz.heatmap(\n",
    "        X=np.outer(np.arange(1, 6), np.arange(1, 11)),\n",
    "        opts=dict(\n",
    "            columnnames=['a', 'b', 'c', 'd', 'e', 'f', 'g', 'h', 'i', 'j'],\n",
    "            rownames=['y1', 'y2', 'y3', 'y4', 'y5'],\n",
    "            colormap='Electric',\n",
    "            )\n",
    "        )"
   ]
  },
  {
   "cell_type": "code",
   "execution_count": 35,
   "metadata": {},
   "outputs": [
    {
     "data": {
      "text/plain": [
       "'window_367e09f3a26608'"
      ]
     },
     "execution_count": 35,
     "metadata": {},
     "output_type": "execute_result"
    }
   ],
   "source": [
    "# contour\n",
    "x = np.tile(np.arange(1, 101), (100, 1))\n",
    "y = x.transpose()\n",
    "X = np.exp((((x - 50) ** 2) + ((y - 50) ** 2)) / -(20.0 ** 2))\n",
    "viz.contour(X=X, opts=dict(colormap='Viridis'))"
   ]
  },
  {
   "cell_type": "code",
   "execution_count": 37,
   "metadata": {},
   "outputs": [
    {
     "data": {
      "text/plain": [
       "'window_367e0a7b2d111a'"
      ]
     },
     "execution_count": 37,
     "metadata": {},
     "output_type": "execute_result"
    }
   ],
   "source": [
    "# surface\n",
    "viz.surf(X=X, opts=dict(colormap='Hot'))"
   ]
  },
  {
   "cell_type": "code",
   "execution_count": 38,
   "metadata": {},
   "outputs": [
    {
     "data": {
      "text/plain": [
       "'window_367e0b0dfff7a2'"
      ]
     },
     "execution_count": 38,
     "metadata": {},
     "output_type": "execute_result"
    }
   ],
   "source": [
    " # line plots\n",
    "viz.line(Y=np.random.rand(10), opts=dict(showlegend=True))"
   ]
  },
  {
   "cell_type": "code",
   "execution_count": 39,
   "metadata": {},
   "outputs": [
    {
     "data": {
      "text/plain": [
       "'window_367e0b68739704'"
      ]
     },
     "execution_count": 39,
     "metadata": {},
     "output_type": "execute_result"
    }
   ],
   "source": [
    " Y = np.linspace(-5, 5, 100)\n",
    "viz.line(\n",
    "        Y=np.column_stack((Y * Y, np.sqrt(Y + 5))),\n",
    "        X=np.column_stack((Y, Y)),\n",
    "        opts=dict(markers=False),\n",
    ")"
   ]
  },
  {
   "cell_type": "code",
   "execution_count": 40,
   "metadata": {},
   "outputs": [],
   "source": [
    "# line updates\n",
    "win = viz.line(\n",
    "        X=np.column_stack((np.arange(0, 10), np.arange(0, 10))),\n",
    "        Y=np.column_stack((np.linspace(5, 10, 10),\n",
    "                           np.linspace(5, 10, 10) + 5)),\n",
    ")"
   ]
  },
  {
   "cell_type": "code",
   "execution_count": 41,
   "metadata": {},
   "outputs": [
    {
     "data": {
      "text/plain": [
       "'window_367e0b9434353a'"
      ]
     },
     "execution_count": 41,
     "metadata": {},
     "output_type": "execute_result"
    }
   ],
   "source": [
    "viz.line(\n",
    "        X=np.column_stack((np.arange(10, 20), np.arange(10, 20))),\n",
    "        Y=np.column_stack((np.linspace(5, 10, 10),\n",
    "                           np.linspace(5, 10, 10) + 5)),\n",
    "        win=win,\n",
    "        update='append'\n",
    ")"
   ]
  },
  {
   "cell_type": "code",
   "execution_count": 42,
   "metadata": {},
   "outputs": [
    {
     "data": {
      "text/plain": [
       "'window_367e0b9434353a'"
      ]
     },
     "execution_count": 42,
     "metadata": {},
     "output_type": "execute_result"
    }
   ],
   "source": [
    "viz.line(\n",
    "        X=np.arange(21, 30),\n",
    "        Y=np.arange(1, 10),\n",
    "        win=win,\n",
    "        name='2',\n",
    "        update='append'  # update \n",
    ")"
   ]
  },
  {
   "cell_type": "code",
   "execution_count": 43,
   "metadata": {},
   "outputs": [
    {
     "data": {
      "text/plain": [
       "'window_367e0b9434353a'"
      ]
     },
     "execution_count": 43,
     "metadata": {},
     "output_type": "execute_result"
    }
   ],
   "source": [
    "viz.line(\n",
    "        X=np.arange(1, 10),\n",
    "        Y=np.arange(11, 20),\n",
    "        win=win,\n",
    "        name='4',\n",
    "        update='insert'  # add a new trace in plot \n",
    ")"
   ]
  },
  {
   "cell_type": "code",
   "execution_count": 44,
   "metadata": {},
   "outputs": [
    {
     "data": {
      "text/plain": [
       "'window_367e0b9434353a'"
      ]
     },
     "execution_count": 44,
     "metadata": {},
     "output_type": "execute_result"
    }
   ],
   "source": [
    "viz.line(X=None, Y=None, win=win, name='delete this', update='remove')"
   ]
  },
  {
   "cell_type": "code",
   "execution_count": 45,
   "metadata": {},
   "outputs": [],
   "source": [
    "Y = np.linspace(0, 4, 200)\n",
    "win = viz.line(\n",
    "        Y=np.column_stack((np.sqrt(Y), np.sqrt(Y) + 2)),\n",
    "        X=np.column_stack((Y, Y)),\n",
    "        opts=dict(\n",
    "            fillarea=True,\n",
    "            showlegend=False,\n",
    "            width=800,\n",
    "            height=800,\n",
    "            xlabel='Time',\n",
    "            ylabel='Volume',\n",
    "            ytype='log',\n",
    "            title='Stacked area plot',\n",
    "            marginleft=30,\n",
    "            marginright=30,\n",
    "            marginbottom=80,\n",
    "            margintop=30,\n",
    "           ),\n",
    "        )"
   ]
  },
  {
   "cell_type": "code",
   "execution_count": 46,
   "metadata": {},
   "outputs": [
    {
     "data": {
      "text/plain": [
       "'window_367e0c1ea295ea'"
      ]
     },
     "execution_count": 46,
     "metadata": {},
     "output_type": "execute_result"
    }
   ],
   "source": [
    "# Assure that the stacked area plot isn't giant\n",
    "viz.update_window_opts(\n",
    "        win=win,\n",
    "        opts=dict(\n",
    "            width=300,\n",
    "            height=300,\n",
    "        ),\n",
    "    )"
   ]
  },
  {
   "cell_type": "code",
   "execution_count": 47,
   "metadata": {},
   "outputs": [
    {
     "data": {
      "text/plain": [
       "'window_367e0c6418ffce'"
      ]
     },
     "execution_count": 47,
     "metadata": {},
     "output_type": "execute_result"
    }
   ],
   "source": [
    "# boxplot\n",
    "X = np.random.rand(100, 2)\n",
    "X[:, 1] += 2\n",
    "viz.boxplot(\n",
    "        X=X,\n",
    "        opts=dict(legend=['Men', 'Women'])\n",
    "         )"
   ]
  },
  {
   "cell_type": "code",
   "execution_count": 49,
   "metadata": {},
   "outputs": [
    {
     "data": {
      "text/plain": [
       "'window_367e0caf7fc5fe'"
      ]
     },
     "execution_count": 49,
     "metadata": {},
     "output_type": "execute_result"
    }
   ],
   "source": [
    "# stemplot\n",
    "Y = np.linspace(0, 2 * math.pi, 70)\n",
    "X = np.column_stack((np.sin(Y), np.cos(Y)))\n",
    "viz.stem(\n",
    "        X=X,\n",
    "        Y=Y,\n",
    "        opts=dict(legend=['Sine', 'Cosine'])\n",
    "      )"
   ]
  },
  {
   "cell_type": "code",
   "execution_count": 50,
   "metadata": {},
   "outputs": [
    {
     "data": {
      "text/plain": [
       "'window_367e0cdf18d8e4'"
      ]
     },
     "execution_count": 50,
     "metadata": {},
     "output_type": "execute_result"
    }
   ],
   "source": [
    "# quiver plot\n",
    "X = np.arange(0, 2.1, .2)\n",
    "Y = np.arange(0, 2.1, .2)\n",
    "X = np.broadcast_to(np.expand_dims(X, axis=1), (len(X), len(X)))\n",
    "Y = np.broadcast_to(np.expand_dims(Y, axis=0), (len(Y), len(Y)))\n",
    "U = np.multiply(np.cos(X), Y)\n",
    "V = np.multiply(np.sin(X), Y)\n",
    "viz.quiver(\n",
    "        X=U,\n",
    "        Y=V,\n",
    "        opts=dict(normalize=0.9),\n",
    "        )"
   ]
  },
  {
   "cell_type": "code",
   "execution_count": 51,
   "metadata": {},
   "outputs": [
    {
     "data": {
      "text/plain": [
       "'window_367e0cfd85846c'"
      ]
     },
     "execution_count": 51,
     "metadata": {},
     "output_type": "execute_result"
    }
   ],
   "source": [
    "# pie chart\n",
    "X = np.asarray([19, 26, 55])\n",
    "viz.pie(\n",
    "        X=X,\n",
    "        opts=dict(legend=['Residential', 'Non-Residential', 'Utility'])\n",
    "     )"
   ]
  },
  {
   "cell_type": "code",
   "execution_count": 54,
   "metadata": {},
   "outputs": [],
   "source": [
    "# scatter plot example with various type of updates\n",
    "colors = np.random.randint(0, 255, (2, 3,))\n",
    "win = viz.scatter(\n",
    "        X=np.random.rand(255, 2),\n",
    "        Y=(np.random.rand(255) + 1.5).astype(int),\n",
    "        opts=dict(\n",
    "            markersize=10,\n",
    "            markercolor=colors,\n",
    "            legend=['1', '2'],\n",
    "            title='scatter plot with updates'\n",
    "        ),\n",
    ")"
   ]
  },
  {
   "cell_type": "code",
   "execution_count": 55,
   "metadata": {},
   "outputs": [
    {
     "data": {
      "text/plain": [
       "'window_367e0dabbc51b8'"
      ]
     },
     "execution_count": 55,
     "metadata": {},
     "output_type": "execute_result"
    }
   ],
   "source": [
    "viz.scatter(\n",
    "    X=np.random.rand(255),\n",
    "    Y=np.random.rand(255),\n",
    "    opts=dict(\n",
    "            markersize=10,\n",
    "            markercolor=colors[0].reshape(-1, 3),\n",
    "\n",
    "             ),\n",
    "    name='1',\n",
    "    update='append',\n",
    "    win=win\n",
    ")"
   ]
  },
  {
   "cell_type": "code",
   "execution_count": 57,
   "metadata": {},
   "outputs": [
    {
     "data": {
      "text/plain": [
       "'window_367e0de02e98d2'"
      ]
     },
     "execution_count": 57,
     "metadata": {},
     "output_type": "execute_result"
    }
   ],
   "source": [
    "# mesh plot\n",
    "x = [0, 0, 1, 1, 0, 0, 1, 1]\n",
    "y = [0, 1, 1, 0, 0, 1, 1, 0]\n",
    "z = [0, 0, 0, 0, 1, 1, 1, 1]\n",
    "X = np.c_[x, y, z]\n",
    "i = [7, 0, 0, 0, 4, 4, 6, 6, 4, 0, 3, 2]\n",
    "j = [3, 4, 1, 2, 5, 6, 5, 2, 0, 1, 6, 3]\n",
    "k = [0, 7, 2, 3, 6, 7, 1, 1, 5, 5, 7, 6]\n",
    "Y = np.c_[i, j, k]\n",
    "viz.mesh(X=X, Y=Y, opts=dict(opacity=0.5))"
   ]
  },
  {
   "cell_type": "code",
   "execution_count": 58,
   "metadata": {},
   "outputs": [
    {
     "data": {
      "text/plain": [
       "'window_367e0e283563d4'"
      ]
     },
     "execution_count": 58,
     "metadata": {},
     "output_type": "execute_result"
    }
   ],
   "source": [
    " # SVG plotting(scalable vector graphics)\n",
    "svgstr = \"\"\"\n",
    "    <svg height=\"300\" width=\"300\">\n",
    "      <ellipse cx=\"80\" cy=\"80\" rx=\"50\" ry=\"30\"\n",
    "       style=\"fill:red;stroke:purple;stroke-width:2\" />\n",
    "      Sorry, your browser does not support inline SVG.\n",
    "    </svg>\n",
    "    \"\"\"\n",
    "viz.svg(\n",
    "        svgstr=svgstr,\n",
    "        opts=dict(title='Example of SVG Rendering')\n",
    "       )"
   ]
  },
  {
   "cell_type": "code",
   "execution_count": 59,
   "metadata": {},
   "outputs": [],
   "source": [
    "# close text window:\n",
    "viz.close(win=textwindow)\n",
    "\n",
    "# assert that the closed window doesn't exist\n",
    "assert not viz.win_exists(textwindow), 'Closed window still exists'"
   ]
  },
  {
   "cell_type": "code",
   "execution_count": 60,
   "metadata": {},
   "outputs": [
    {
     "data": {
      "text/plain": [
       "'mywin'"
      ]
     },
     "execution_count": 60,
     "metadata": {},
     "output_type": "execute_result"
    }
   ],
   "source": [
    "# Arbitrary visdom content\n",
    "trace = dict(x=[1, 2, 3], y=[4, 5, 6], mode=\"markers+lines\", type='custom',\n",
    "                 marker={'color': 'red', 'symbol': 104, 'size': \"10\"},\n",
    "                 text=[\"one\", \"two\", \"three\"], name='1st Trace')\n",
    "layout = dict(title=\"First Plot\", xaxis={'title': 'x1'},\n",
    "                  yaxis={'title': 'x2'})\n",
    "\n",
    "viz._send({'data': [trace], 'layout': layout, 'win': 'mywin'})"
   ]
  },
  {
   "cell_type": "code",
   "execution_count": 63,
   "metadata": {},
   "outputs": [
    {
     "data": {
      "text/plain": [
       "'window_367e0f888b03a2'"
      ]
     },
     "execution_count": 63,
     "metadata": {},
     "output_type": "execute_result"
    }
   ],
   "source": [
    "# plot pytorch tensor \n",
    "import torch \n",
    "viz.line(Y=torch.Tensor([[0., 0.], [1., 1.]]), \n",
    "         opts=dict(title='plot pytorch tensor'))"
   ]
  },
  {
   "cell_type": "code",
   "execution_count": null,
   "metadata": {},
   "outputs": [],
   "source": []
  }
 ],
 "metadata": {
  "kernelspec": {
   "display_name": "Python 3",
   "language": "python",
   "name": "python3"
  },
  "language_info": {
   "codemirror_mode": {
    "name": "ipython",
    "version": 3
   },
   "file_extension": ".py",
   "mimetype": "text/x-python",
   "name": "python",
   "nbconvert_exporter": "python",
   "pygments_lexer": "ipython3",
   "version": "3.6.5"
  }
 },
 "nbformat": 4,
 "nbformat_minor": 2
}
