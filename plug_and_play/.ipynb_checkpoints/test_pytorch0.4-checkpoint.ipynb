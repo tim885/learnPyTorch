{
 "cells": [
  {
   "cell_type": "code",
   "execution_count": 1,
   "metadata": {},
   "outputs": [],
   "source": [
    "# test basic functionality of python v0.4\n",
    "\n",
    "import torch\n",
    "import torch.nn as nn\n",
    "import torch.optim\n",
    "import torch.utils.data\n",
    "import torchvision.transforms as transforms\n",
    "import torchvision.datasets as datasets\n",
    "import torchvision.models as models\n",
    "\n",
    "# if with GPU and(or) parallel computing \n",
    "#import torch.backends.cudnn as cudnn\n",
    "#import torch.distributed as dist\n",
    "#import torch.utils.data.distributed\n"
   ]
  },
  {
   "cell_type": "code",
   "execution_count": 4,
   "metadata": {},
   "outputs": [],
   "source": [
    "def main():\n",
    "    # params settings\n",
    "    gpu = None # None or int\n",
    "    lr = 0.01\n",
    "    momentum = 0.9\n",
    "    weight_decay = 1e-4\n"
   ]
  },
  {
   "cell_type": "code",
   "execution_count": 5,
   "metadata": {},
   "outputs": [
    {
     "ename": "NameError",
     "evalue": "name 'gpu' is not defined",
     "output_type": "error",
     "traceback": [
      "\u001b[0;31m---------------------------------------------------------------------------\u001b[0m",
      "\u001b[0;31mNameError\u001b[0m                                 Traceback (most recent call last)",
      "\u001b[0;32m<ipython-input-5-e2630aad10a1>\u001b[0m in \u001b[0;36m<module>\u001b[0;34m()\u001b[0m\n\u001b[1;32m      4\u001b[0m \u001b[0mmodel\u001b[0m \u001b[0;34m=\u001b[0m \u001b[0mnn\u001b[0m\u001b[0;34m.\u001b[0m\u001b[0mSequential\u001b[0m\u001b[0;34m(\u001b[0m\u001b[0;34m*\u001b[0m\u001b[0mlist\u001b[0m\u001b[0;34m(\u001b[0m\u001b[0mmodel\u001b[0m\u001b[0;34m.\u001b[0m\u001b[0mchildren\u001b[0m\u001b[0;34m(\u001b[0m\u001b[0;34m)\u001b[0m\u001b[0;34m)\u001b[0m\u001b[0;34m[\u001b[0m\u001b[0;34m:\u001b[0m\u001b[0;34m-\u001b[0m\u001b[0;36m1\u001b[0m\u001b[0;34m]\u001b[0m\u001b[0;34m)\u001b[0m \u001b[0;31m# remove last FC\u001b[0m\u001b[0;34m\u001b[0m\u001b[0m\n\u001b[1;32m      5\u001b[0m \u001b[0;34m\u001b[0m\u001b[0m\n\u001b[0;32m----> 6\u001b[0;31m \u001b[0;32mif\u001b[0m \u001b[0mgpu\u001b[0m \u001b[0;32mis\u001b[0m \u001b[0;32mnot\u001b[0m \u001b[0;32mNone\u001b[0m\u001b[0;34m:\u001b[0m \u001b[0mmodel\u001b[0m \u001b[0;34m=\u001b[0m \u001b[0mmodel\u001b[0m\u001b[0;34m.\u001b[0m\u001b[0mcuda\u001b[0m\u001b[0;34m(\u001b[0m\u001b[0mgpu\u001b[0m\u001b[0;34m)\u001b[0m  \u001b[0;31m# convert to single GPU\u001b[0m\u001b[0;34m\u001b[0m\u001b[0m\n\u001b[0m",
      "\u001b[0;31mNameError\u001b[0m: name 'gpu' is not defined"
     ]
    }
   ],
   "source": [
    "    # load pretrained model and relevant modifications \n",
    "    model = models.__dict__['resnet18'](pretrained=True)\n",
    "\n",
    "    model = nn.Sequential(*list(model.children())[:-1]) # remove last FC\n",
    "\n",
    "    if gpu is not None: model = model.cuda(gpu)  # convert to single GPU"
   ]
  },
  {
   "cell_type": "code",
   "execution_count": 4,
   "metadata": {},
   "outputs": [],
   "source": [
    "    # loss and optomizer \n",
    "    criterion = nn.CrossEntropyLoss().cuda(gpu)\n",
    "    optimizer = torch.optim.SGD(model.parameters(), lr,\n",
    "                                momentum=momentum,\n",
    "                                weight_decay=weight_decay)\n"
   ]
  },
  {
   "cell_type": "code",
   "execution_count": 6,
   "metadata": {},
   "outputs": [],
   "source": [
    "    # define train dataset and val datase\n",
    "    # download dataset at specified directory \n",
    "    dataset_root = '/home/tim/Dataset/'\n",
    "\n",
    "    # download dataset directly\n",
    "    # datasets.CIFAR10(dataset_root, download=True)\n",
    "\n",
    "\n",
    "    # create data dir for dataloader \n",
    "    #traindir = os.path.join(dataset_root, 'train')\n",
    "    #valdir = os.path.join(dataset_root, 'val')\n",
    "\n",
    "    # or load data directly, datatype is numpy array \n",
    "    train_dataset = datasets.CIFAR10(dataset_root, train=True)\n",
    "    val_dataset = datasets.CIFAR10(dataset_root, train=False)\n",
    "\n",
    "    normalize = transforms.Normalize(mean=[0.4914, 0.4822, 0.4465],\n",
    "                                     std=[0.247, 0.243, 0.261])  # imagenet statistics"
   ]
  },
  {
   "cell_type": "code",
   "execution_count": 8,
   "metadata": {},
   "outputs": [
    {
     "name": "stdout",
     "output_type": "stream",
     "text": [
      "<torch.utils.data.dataloader.DataLoader object at 0x7fc778aef400>\n"
     ]
    }
   ],
   "source": [
    "train_loader = torch.utils .data.DataLoader(\n",
    "        train_dataset, batch_size=128, shuffle=False,\n",
    "        num_workers=1, pin_memory=False)\n"
   ]
  },
  {
   "cell_type": "code",
   "execution_count": 10,
   "metadata": {},
   "outputs": [
    {
     "data": {
      "text/plain": [
       "Dataset CIFAR10\n",
       "    Number of datapoints: 50000\n",
       "    Split: train\n",
       "    Root Location: /home/tim/Dataset/\n",
       "    Transforms (if any): None\n",
       "    Target Transforms (if any): None"
      ]
     },
     "execution_count": 10,
     "metadata": {},
     "output_type": "execute_result"
    }
   ],
   "source": [
    "train_loader.dataset\n"
   ]
  },
  {
   "cell_type": "code",
   "execution_count": 16,
   "metadata": {},
   "outputs": [
    {
     "name": "stdout",
     "output_type": "stream",
     "text": [
      "ConcatTable(\n",
      "  (FC_x): Linear(in_features=512, out_features=200, bias=True)\n",
      "  (FC_y): Linear(in_features=512, out_features=200, bias=True)\n",
      "  (FC_theta): Linear(in_features=512, out_features=36, bias=True)\n",
      ")\n"
     ]
    },
    {
     "data": {
      "text/plain": [
       "__main__.ConcatTable"
      ]
     },
     "execution_count": 16,
     "metadata": {},
     "output_type": "execute_result"
    }
   ],
   "source": [
    "concat_fc = ConcatTable(*[200, 200, 36])\n",
    "print(concat_fc)\n",
    "type(concat_fc)"
   ]
  },
  {
   "cell_type": "code",
   "execution_count": 14,
   "metadata": {},
   "outputs": [],
   "source": [
    "class ConcatTable(nn.Module):\n",
    "    \"\"\"Define ConcatTable module in pytorch \"\"\"\n",
    "    def __init__(self, out_x, out_y, out_theta):\n",
    "        super(ConcatTable, self).__init__()\n",
    "        self.FC_x = nn.Linear(512, out_x)\n",
    "        self.FC_y = nn.Linear(512, out_y)\n",
    "        self.FC_theta = nn.Linear(512, out_theta)\n",
    "\n",
    "    def forward(self, x):\n",
    "        out = [self.FC_x(x), self.FC_y(x), self.FC_theta(x)]\n",
    "        return out"
   ]
  }
 ],
 "metadata": {
  "kernelspec": {
   "display_name": "Python 3",
   "language": "python",
   "name": "python3"
  },
  "language_info": {
   "codemirror_mode": {
    "name": "ipython",
    "version": 3
   },
   "file_extension": ".py",
   "mimetype": "text/x-python",
   "name": "python",
   "nbconvert_exporter": "python",
   "pygments_lexer": "ipython3",
   "version": "3.6.5"
  }
 },
 "nbformat": 4,
 "nbformat_minor": 2
}
